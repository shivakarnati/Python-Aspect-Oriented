{
 "cells": [
  {
   "cell_type": "code",
   "execution_count": 2,
   "metadata": {},
   "outputs": [],
   "source": [
    "from timeit import default_timer as timer"
   ]
  },
  {
   "cell_type": "code",
   "execution_count": 1,
   "metadata": {},
   "outputs": [],
   "source": [
    "import functools"
   ]
  },
  {
   "cell_type": "code",
   "execution_count": 7,
   "metadata": {},
   "outputs": [],
   "source": [
    "def calculate_time(func):\n",
    "    \"\"\" Calculate the time taken by a function.\"\"\"\n",
    "    @functools.wraps(func)\n",
    "    def _calculate_time(*args, **kwargs):\n",
    "        \"\"\"Calculating the time\"\"\"\n",
    "        start = timer()\n",
    "        result = func(*args, **kwargs)\n",
    "        end = timer()\n",
    "        print('Time taken:', end - start)\n",
    "        return result\n",
    "    return _calculate_time"
   ]
  },
  {
   "cell_type": "code",
   "execution_count": 8,
   "metadata": {},
   "outputs": [],
   "source": [
    "@calculate_time\n",
    "def add(a,b):\n",
    "    return a+b"
   ]
  },
  {
   "cell_type": "markdown",
   "metadata": {},
   "source": [
    "Modify your solution from exercise 2. Measure the average run time for multiple runs of the function. To achieve\n",
    "this, make the decorator parameterized. It should take an integer that specifies how often the function has to be run.\n",
    "Make sure you divide the resulting run time by this number."
   ]
  },
  {
   "cell_type": "code",
   "execution_count": 17,
   "metadata": {},
   "outputs": [],
   "source": [
    "def measure_average_runs(runs=1):\n",
    "    def _measure_average_runs(cls):\n",
    "        @functools.wraps(cls)\n",
    "        def __measure_average_runs(*args, **kwargs):    \n",
    "                start = timer()\n",
    "                for _ in range(runs):\n",
    "                    res = object(*args, **kwargs)\n",
    "                end = timer()\n",
    "                avg += end - start\n",
    "                print('Average time taken:', avg/res)\n",
    "        return cls\n",
    "    return _measure_average_runs"
   ]
  },
  {
   "cell_type": "code",
   "execution_count": 19,
   "metadata": {},
   "outputs": [],
   "source": [
    "@measure_average_runs(runs=10000)\n",
    "def add(a,b):\n",
    "    return a+b"
   ]
  },
  {
   "cell_type": "code",
   "execution_count": 20,
   "metadata": {},
   "outputs": [
    {
     "data": {
      "text/plain": [
       "3"
      ]
     },
     "execution_count": 20,
     "metadata": {},
     "output_type": "execute_result"
    }
   ],
   "source": [
    "add(1,2)"
   ]
  },
  {
   "cell_type": "markdown",
   "metadata": {},
   "source": [
    "Make the time measurement optional by using a global switch in the module that can be set to True or False to\n",
    "turn time measurement on or off."
   ]
  },
  {
   "cell_type": "code",
   "execution_count": 16,
   "metadata": {},
   "outputs": [
    {
     "data": {
      "text/plain": [
       "4"
      ]
     },
     "execution_count": 16,
     "metadata": {},
     "output_type": "execute_result"
    }
   ],
   "source": [
    "add(1,3)"
   ]
  },
  {
   "cell_type": "code",
   "execution_count": null,
   "metadata": {},
   "outputs": [],
   "source": []
  }
 ],
 "metadata": {
  "kernelspec": {
   "display_name": "usr",
   "language": "python",
   "name": "python3"
  },
  "language_info": {
   "codemirror_mode": {
    "name": "ipython",
    "version": 3
   },
   "file_extension": ".py",
   "mimetype": "text/x-python",
   "name": "python",
   "nbconvert_exporter": "python",
   "pygments_lexer": "ipython3",
   "version": "3.10.12"
  }
 },
 "nbformat": 4,
 "nbformat_minor": 2
}
