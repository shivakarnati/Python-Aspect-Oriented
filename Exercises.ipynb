{
 "cells": [
  {
   "cell_type": "code",
   "execution_count": 2,
   "metadata": {},
   "outputs": [],
   "source": [
    "from timeit import default_timer as timer"
   ]
  },
  {
   "cell_type": "code",
   "execution_count": 1,
   "metadata": {},
   "outputs": [],
   "source": [
    "import functools"
   ]
  },
  {
   "cell_type": "code",
   "execution_count": 43,
   "metadata": {},
   "outputs": [],
   "source": [
    "def measure_run_time(func):\n",
    "    @functools.wraps(func)\n",
    "    def _measure(*args, **kwargs):\n",
    "        start = timer()\n",
    "        end = timer()\n",
    "        result = end - start\n",
    "        print(result)\n",
    "        return func(*args, **kwargs)\n",
    "        \n",
    "    return _measure"
   ]
  },
  {
   "cell_type": "code",
   "execution_count": 44,
   "metadata": {},
   "outputs": [],
   "source": [
    "@measure_run_time\n",
    "def add(a,b):\n",
    "    \"\"\"Adding two numbers\"\"\"\n",
    "    return a+b"
   ]
  },
  {
   "cell_type": "code",
   "execution_count": 45,
   "metadata": {},
   "outputs": [
    {
     "name": "stdout",
     "output_type": "stream",
     "text": [
      "2.410088200122118e-07\n"
     ]
    },
    {
     "data": {
      "text/plain": [
       "5"
      ]
     },
     "execution_count": 45,
     "metadata": {},
     "output_type": "execute_result"
    }
   ],
   "source": [
    "add(1, 4)"
   ]
  },
  {
   "cell_type": "code",
   "execution_count": 41,
   "metadata": {},
   "outputs": [
    {
     "data": {
      "text/plain": [
       "'Adding two numbers'"
      ]
     },
     "execution_count": 41,
     "metadata": {},
     "output_type": "execute_result"
    }
   ],
   "source": [
    "add.__doc__"
   ]
  },
  {
   "cell_type": "code",
   "execution_count": 46,
   "metadata": {},
   "outputs": [],
   "source": [
    "def measure_average_runs(runs):\n",
    "    def decorator(func):\n",
    "        @functools.wraps(func)\n",
    "        def _measure(*args, **kwargs):\n",
    "            total_time = 0\n",
    "            for _ in range(runs):\n",
    "                start = timer()\n",
    "                func(*args, **kwargs)\n",
    "                end = timer()\n",
    "                total_time += (end - start)\n",
    "            average_time = total_time / runs\n",
    "            print(f\"Average run time over {runs} runs: {average_time:.6f} seconds\")\n",
    "            return func(*args, **kwargs)\n",
    "        \n",
    "        return _measure\n",
    "    return decorator"
   ]
  },
  {
   "cell_type": "code",
   "execution_count": 47,
   "metadata": {},
   "outputs": [],
   "source": [
    "@measure_average_runs(runs=10)\n",
    "def add(a,b):\n",
    "    return a+b"
   ]
  },
  {
   "cell_type": "code",
   "execution_count": 48,
   "metadata": {},
   "outputs": [
    {
     "name": "stdout",
     "output_type": "stream",
     "text": [
      "Average run time over 10 runs: 0.000000 seconds\n"
     ]
    },
    {
     "data": {
      "text/plain": [
       "3"
      ]
     },
     "execution_count": 48,
     "metadata": {},
     "output_type": "execute_result"
    }
   ],
   "source": [
    "add(1,2)"
   ]
  },
  {
   "cell_type": "markdown",
   "metadata": {},
   "source": [
    "Make the time measurement optional by using a global switch in the module that can be set to True or False to\n",
    "turn time measurement on or off."
   ]
  },
  {
   "cell_type": "code",
   "execution_count": 52,
   "metadata": {},
   "outputs": [],
   "source": [
    "def measure_average_runs(runs):\n",
    "\n",
    "    MEASUREMENT = True\n",
    "\n",
    "    def decorator(func):\n",
    "        if not MEASUREMENT:\n",
    "            return func\n",
    "        @functools.wraps(func)\n",
    "        def _measure(*args, **kwargs):\n",
    "            total_time = 0\n",
    "            for _ in range(runs):\n",
    "                start = timer()\n",
    "                func(*args, **kwargs)\n",
    "                end = timer()\n",
    "                total_time += (end - start)\n",
    "            average_time = total_time / runs\n",
    "            print(f\"Average run time over {runs} runs: {average_time:.6f} seconds\")\n",
    "            return func(*args, **kwargs)\n",
    "        \n",
    "        return _measure\n",
    "    return decorator"
   ]
  },
  {
   "cell_type": "code",
   "execution_count": 53,
   "metadata": {},
   "outputs": [],
   "source": [
    "@measure_average_runs(runs=10)\n",
    "def add(a,b):\n",
    "    return a+b"
   ]
  },
  {
   "cell_type": "code",
   "execution_count": null,
   "metadata": {},
   "outputs": [
    {
     "name": "stdout",
     "output_type": "stream",
     "text": [
      "Average run time over 10 runs: 0.000000 seconds\n"
     ]
    },
    {
     "data": {
      "text/plain": [
       "3"
      ]
     },
     "execution_count": 54,
     "metadata": {},
     "output_type": "execute_result"
    }
   ],
   "source": [
    "\n",
    "add(1,2)"
   ]
  },
  {
   "cell_type": "code",
   "execution_count": null,
   "metadata": {},
   "outputs": [],
   "source": [
    "def measure_average_runs(runs):\n",
    "\n",
    "    MEASUREMENT = True\n",
    "\n",
    "    def decorator(func):\n",
    "        if not MEASUREMENT:\n",
    "            return func\n",
    "        @functools.wraps(func)\n",
    "        def _measure(*args, **kwargs):\n",
    "            total_time = 0\n",
    "            for _ in range(runs):\n",
    "                start = timer()\n",
    "                func(*args, **kwargs)\n",
    "                end = timer()\n",
    "                total_time += (end - start)\n",
    "            average_time = total_time / runs\n",
    "            print(f\"Average run time over {runs} runs: {average_time:.6f} seconds\")\n",
    "            return func(*args, **kwargs)\n",
    "        \n",
    "        return _measure\n",
    "    return decorator"
   ]
  }
 ],
 "metadata": {
  "kernelspec": {
   "display_name": "usr",
   "language": "python",
   "name": "python3"
  },
  "language_info": {
   "codemirror_mode": {
    "name": "ipython",
    "version": 3
   },
   "file_extension": ".py",
   "mimetype": "text/x-python",
   "name": "python",
   "nbconvert_exporter": "python",
   "pygments_lexer": "ipython3",
   "version": "3.10.12"
  }
 },
 "nbformat": 4,
 "nbformat_minor": 2
}
